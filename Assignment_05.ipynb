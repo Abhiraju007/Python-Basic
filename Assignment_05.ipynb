{
 "cells": [
  {
   "cell_type": "markdown",
   "id": "7ffd03dd",
   "metadata": {},
   "source": [
    " Ques:-1. What does an empty dictionary's code look like?"
   ]
  },
  {
   "cell_type": "code",
   "execution_count": 4,
   "id": "56b0a465",
   "metadata": {},
   "outputs": [
    {
     "name": "stdout",
     "output_type": "stream",
     "text": [
      "{}\n"
     ]
    }
   ],
   "source": [
    "#Ans:-1\n",
    "Dict = {}\n",
    "print(Dict)"
   ]
  },
  {
   "cell_type": "code",
   "execution_count": 3,
   "id": "03becdec",
   "metadata": {},
   "outputs": [
    {
     "data": {
      "text/plain": [
       "dict"
      ]
     },
     "execution_count": 3,
     "metadata": {},
     "output_type": "execute_result"
    }
   ],
   "source": [
    "type(Dict)"
   ]
  },
  {
   "cell_type": "code",
   "execution_count": 5,
   "id": "6973803d",
   "metadata": {},
   "outputs": [
    {
     "data": {
      "text/plain": [
       "0"
      ]
     },
     "execution_count": 5,
     "metadata": {},
     "output_type": "execute_result"
    }
   ],
   "source": [
    "len(Dict)"
   ]
  },
  {
   "cell_type": "markdown",
   "id": "3484870f",
   "metadata": {},
   "source": [
    "Ques:-2 What is the value of a dictionary value with the key 'foo' and the value 42?"
   ]
  },
  {
   "cell_type": "code",
   "execution_count": 14,
   "id": "6d5716a3",
   "metadata": {},
   "outputs": [
    {
     "name": "stdout",
     "output_type": "stream",
     "text": [
      "{'foo': 42}\n"
     ]
    }
   ],
   "source": [
    "#Ans:-2\n",
    "Dict = {'foo':42}\n",
    "print(Dict)\n"
   ]
  },
  {
   "cell_type": "markdown",
   "id": "57437892",
   "metadata": {},
   "source": [
    "Ques:-3. What is the most significant distinction between a dictionary and a list?"
   ]
  },
  {
   "cell_type": "markdown",
   "id": "1909e15d",
   "metadata": {},
   "source": [
    "#Ans:-3\n",
    "Dictionary is a collection which is unordered and changeable\n",
    "Syntax of Dictionary is {}\n",
    "List is a collection which is ordered and changeable\n",
    "Syntax of List is []"
   ]
  },
  {
   "cell_type": "markdown",
   "id": "b1c006bf",
   "metadata": {},
   "source": [
    "Ques:-4 What happens if you try to access spam['foo'] if spam is {'bar': 100}?"
   ]
  },
  {
   "cell_type": "code",
   "execution_count": 23,
   "id": "c32b6df2",
   "metadata": {},
   "outputs": [],
   "source": [
    "#Ans:-4\n",
    "spam = {'bar': 100}\n"
   ]
  },
  {
   "cell_type": "code",
   "execution_count": 24,
   "id": "4f61606c",
   "metadata": {},
   "outputs": [
    {
     "ename": "KeyError",
     "evalue": "'foo'",
     "output_type": "error",
     "traceback": [
      "\u001b[1;31m---------------------------------------------------------------------------\u001b[0m",
      "\u001b[1;31mKeyError\u001b[0m                                  Traceback (most recent call last)",
      "\u001b[1;32m<ipython-input-24-3673e299a143>\u001b[0m in \u001b[0;36m<module>\u001b[1;34m\u001b[0m\n\u001b[1;32m----> 1\u001b[1;33m \u001b[0mspam\u001b[0m \u001b[1;33m[\u001b[0m\u001b[1;34m'foo'\u001b[0m\u001b[1;33m]\u001b[0m\u001b[1;33m\u001b[0m\u001b[1;33m\u001b[0m\u001b[0m\n\u001b[0m",
      "\u001b[1;31mKeyError\u001b[0m: 'foo'"
     ]
    }
   ],
   "source": [
    "spam ['foo'] #This will give error"
   ]
  },
  {
   "cell_type": "markdown",
   "id": "a145a527",
   "metadata": {},
   "source": [
    "Ques:-5 If a dictionary is stored in spam, what is the difference between the expressions 'cat' in spam and 'cat' in spam.keys()?"
   ]
  },
  {
   "cell_type": "code",
   "execution_count": 25,
   "id": "f1a9f4ef",
   "metadata": {},
   "outputs": [
    {
     "data": {
      "text/plain": [
       "dict_keys(['cat'])"
      ]
     },
     "execution_count": 25,
     "metadata": {},
     "output_type": "execute_result"
    }
   ],
   "source": [
    "#Ans:-5\n",
    "spam = {'cat': 7}\n",
    "spam.keys() #cat in spam is a key and spam in a value corresponding to that value of cat in spam"
   ]
  },
  {
   "cell_type": "markdown",
   "id": "d989dc80",
   "metadata": {},
   "source": [
    "Ques:-6 If a dictionary is stored in spam, what is the difference between the expressions 'cat' in spam and 'cat' in spam.values()?"
   ]
  },
  {
   "cell_type": "code",
   "execution_count": 26,
   "id": "8987dbe6",
   "metadata": {},
   "outputs": [
    {
     "data": {
      "text/plain": [
       "dict_values([7])"
      ]
     },
     "execution_count": 26,
     "metadata": {},
     "output_type": "execute_result"
    }
   ],
   "source": [
    "#Ans:-6\n",
    "spam.values() #cat in spam is a value of cat assign to corresponding value of assign which is 7"
   ]
  },
  {
   "cell_type": "markdown",
   "id": "ab699b4d",
   "metadata": {},
   "source": [
    "Ques:-7. What is a shortcut for the following code?\n",
    "if 'color' not in spam:\n",
    "spam['color'] = 'black'\n"
   ]
  },
  {
   "cell_type": "code",
   "execution_count": 27,
   "id": "6450c4b4",
   "metadata": {},
   "outputs": [
    {
     "data": {
      "text/plain": [
       "'black'"
      ]
     },
     "execution_count": 27,
     "metadata": {},
     "output_type": "execute_result"
    }
   ],
   "source": [
    "#Ans:-7\n",
    "spam.setdefault('color','black')"
   ]
  },
  {
   "cell_type": "markdown",
   "id": "01db184b",
   "metadata": {},
   "source": [
    "Ques:-8. How do you \"pretty print\" dictionary values using which module and function?"
   ]
  },
  {
   "cell_type": "code",
   "execution_count": 29,
   "id": "ca335923",
   "metadata": {},
   "outputs": [
    {
     "name": "stdout",
     "output_type": "stream",
     "text": [
      "[{'Name': 'Abhishek', 'Surname': 'Pandey', 'Address': 'Delhi'}, {'Name': 'Anshuman', 'Surname': 'Tripathi', 'Address': 'Kanpur'}, {'Name': 'Radhik', 'Surname': 'Sharma', 'Address': 'GHaziabad'}]\n"
     ]
    }
   ],
   "source": [
    "#Ans:-8\n",
    "import pprint\n",
    "a = [{'Name':'Abhishek','Surname': 'Pandey', 'Address': 'Delhi'},\n",
    "      {'Name': 'Anshuman', 'Surname': 'Tripathi','Address': 'Kanpur'},\n",
    "      {'Name': 'Radhik', 'Surname': 'Sharma', 'Address': 'GHaziabad'}]\n",
    "print(a)"
   ]
  },
  {
   "cell_type": "code",
   "execution_count": 30,
   "id": "64e3108b",
   "metadata": {},
   "outputs": [
    {
     "name": "stdout",
     "output_type": "stream",
     "text": [
      "[{'Address': 'Delhi', 'Name': 'Abhishek', 'Surname': 'Pandey'},\n",
      " {'Address': 'Kanpur', 'Name': 'Anshuman', 'Surname': 'Tripathi'},\n",
      " {'Address': 'GHaziabad', 'Name': 'Radhik', 'Surname': 'Sharma'}]\n"
     ]
    }
   ],
   "source": [
    "pprint.pprint(a)"
   ]
  },
  {
   "cell_type": "code",
   "execution_count": null,
   "id": "9976297a",
   "metadata": {},
   "outputs": [],
   "source": []
  }
 ],
 "metadata": {
  "kernelspec": {
   "display_name": "Python 3",
   "language": "python",
   "name": "python3"
  },
  "language_info": {
   "codemirror_mode": {
    "name": "ipython",
    "version": 3
   },
   "file_extension": ".py",
   "mimetype": "text/x-python",
   "name": "python",
   "nbconvert_exporter": "python",
   "pygments_lexer": "ipython3",
   "version": "3.8.5"
  }
 },
 "nbformat": 4,
 "nbformat_minor": 5
}
